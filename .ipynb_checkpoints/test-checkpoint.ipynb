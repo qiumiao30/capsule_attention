{
 "cells": [
  {
   "cell_type": "code",
   "execution_count": 7,
   "metadata": {
    "collapsed": true
   },
   "outputs": [],
   "source": [
    "import pandas as pd\n",
    "import numpy as np\n",
    "import sklearn\n",
    "from sklearn.preprocessing import MinMaxScaler, StandardScaler\n",
    "from sklearn.model_selection import StratifiedShuffleSplit, train_test_split"
   ]
  },
  {
   "cell_type": "code",
   "execution_count": 17,
   "metadata": {
    "pycharm": {
     "name": "#%%\n"
    }
   },
   "outputs": [],
   "source": [
    "def multivariate_data(dataset, target, start_index,\n",
    "                      end_index, history_size, step):\n",
    "    data = []\n",
    "    labels = []\n",
    "\n",
    "    start_index = start_index + history_size\n",
    "    if end_index is None:\n",
    "        end_index = len(dataset) + 1\n",
    "\n",
    "    for i in range(start_index, end_index):\n",
    "        indices = range(i-history_size, i, step)\n",
    "\n",
    "        data.append(dataset[indices])\n",
    "        labels.append(np.isin(1, target[indices]))\n",
    "\n",
    "    return np.array(data), np.array(labels,dtype=int)"
   ]
  },
  {
   "cell_type": "code",
   "execution_count": 22,
   "metadata": {
    "pycharm": {
     "name": "#%%\n"
    }
   },
   "outputs": [],
   "source": [
    "all_data = pd.read_csv('data/test.csv')"
   ]
  },
  {
   "cell_type": "code",
   "execution_count": 23,
   "metadata": {
    "pycharm": {
     "name": "#%%\n"
    }
   },
   "outputs": [
    {
     "name": "stdout",
     "output_type": "stream",
     "text": [
      "[[0.23106059 0.25641025 0.        ]\n",
      " [0.28409086 0.52564099 0.        ]\n",
      " [0.         0.47435901 0.        ]\n",
      " [0.15530303 0.47435901 0.        ]\n",
      " [0.15530303 0.41025655 1.        ]\n",
      " [0.39772725 0.50000039 1.        ]\n",
      " [0.58333318 0.47435901 1.        ]\n",
      " [0.68181822 1.         0.        ]\n",
      " [1.         0.38461556 0.        ]\n",
      " [0.91287891 0.38461556 0.        ]\n",
      " [0.77651514 0.3333332  0.        ]\n",
      " [0.63636377 0.3333332  0.        ]\n",
      " [0.37500008 0.         1.        ]\n",
      " [0.18181812 0.71794877 1.        ]]\n"
     ]
    }
   ],
   "source": [
    "\n",
    "all_data = all_data.drop('time', 1)  # 删除timestamp列\n",
    "all_data = all_data.values\n",
    "scaler = MinMaxScaler()\n",
    "all_data = scaler.fit_transform(all_data)\n",
    "print(all_data)"
   ]
  },
  {
   "cell_type": "code",
   "execution_count": 81,
   "metadata": {
    "pycharm": {
     "name": "#%%\n"
    }
   },
   "outputs": [
    {
     "name": "stdout",
     "output_type": "stream",
     "text": [
      "(6, 2, 2) (6,) (1, 2, 2) (1,) (2, 2, 2) (2,)\n"
     ]
    }
   ],
   "source": [
    "\n",
    "train_X, train_y = multivariate_data(all_data[:, :-1], all_data[:, -1], 0,\n",
    "                                             TRAIN_SPLIT, history_size=2, step=1)\n",
    "val_X, val_y = multivariate_data(all_data[:, :-1], all_data[:, -1], TRAIN_SPLIT,\n",
    "                                         VAL_SPLIT, history_size=2, step=1)\n",
    "test_X, test_y = multivariate_data(all_data[:, :-1], all_data[:, -1], VAL_SPLIT,\n",
    "                                           None, history_size=2, step=1)\n",
    "\n",
    "x_train, y_train = sklearn.utils.shuffle(train_X, train_y)\n",
    "x_val, y_val = sklearn.utils.shuffle(val_X, val_y)\n",
    "x_test, y_test = sklearn.utils.shuffle(test_X, test_y)\n",
    "print(x_train.shape, y_train.shape, x_val.shape, y_val.shape, x_test.shape, y_test.shape)"
   ]
  },
  {
   "cell_type": "code",
   "execution_count": 67,
   "metadata": {
    "pycharm": {
     "name": "#%%\n"
    }
   },
   "outputs": [
    {
     "name": "stdout",
     "output_type": "stream",
     "text": [
      "(7, 2, 2) (7,)\n",
      "(2, 2, 2) (2,)\n"
     ]
    }
   ],
   "source": [
    "print(train_X.shape, train_y.shape)\n",
    "print(x_test.shape, y_test.shape)"
   ]
  },
  {
   "cell_type": "code",
   "execution_count": 84,
   "metadata": {
    "pycharm": {
     "name": "#%%\n"
    }
   },
   "outputs": [
    {
     "name": "stdout",
     "output_type": "stream",
     "text": [
      "[[[1.6350274 1.2800992]\n",
      "  [1.786234  1.2800992]]\n",
      "\n",
      " [[1.8599933 1.2235945]\n",
      "  [1.9116248 1.2933944]]\n",
      "\n",
      " [[1.786234  1.2634802]\n",
      "  [2.0222638 1.2867469]]\n",
      "\n",
      " [[2.0222638 1.2867469]\n",
      "  [2.202974  1.2800992]]\n",
      "\n",
      " [[1.9116248 1.2933944]\n",
      "  [1.6350274 1.2800992]]\n",
      "\n",
      " [[1.786234  1.2800992]\n",
      "  [1.786234  1.2634802]]]\n",
      "[False False  True  True False  True]\n"
     ]
    },
    {
     "name": "stderr",
     "output_type": "stream",
     "text": [
      "UsageError: Line magic function `%%` not found.\n"
     ]
    }
   ],
   "source": [
    "print(x_train)\n",
    "print(y_train)"
   ]
  },
  {
   "cell_type": "code",
   "execution_count": 85,
   "metadata": {
    "pycharm": {
     "name": "#%%\n"
    }
   },
   "outputs": [
    {
     "name": "stdout",
     "output_type": "stream",
     "text": [
      "[[[2.6086504 1.2568326]\n",
      "  [2.5238273 1.2568326]]]\n",
      "[False]\n"
     ]
    }
   ],
   "source": [
    "print(x_val)\n",
    "print(y_val)"
   ]
  },
  {
   "cell_type": "code",
   "execution_count": null,
   "metadata": {
    "pycharm": {
     "name": "#%%\n"
    }
   },
   "outputs": [],
   "source": []
  },
  {
   "cell_type": "code",
   "execution_count": 86,
   "metadata": {
    "pycharm": {
     "name": "#%%\n"
    }
   },
   "outputs": [
    {
     "name": "stdout",
     "output_type": "stream",
     "text": [
      "[[[2.0001361 1.1571184]\n",
      "  [1.8120497 1.3432515]]\n",
      "\n",
      " [[2.2546058 1.2435373]\n",
      "  [2.0001361 1.1571184]]]\n",
      "[ True  True]\n"
     ]
    }
   ],
   "source": [
    "print(x_test)\n",
    "print(y_test)"
   ]
  },
  {
   "cell_type": "code",
   "execution_count": 93,
   "metadata": {
    "pycharm": {
     "name": "#%%\n"
    }
   },
   "outputs": [],
   "source": [
    "data_X = np.load('data/X_train.npy')\n",
    "data_y = np.load('data/y_train.npy')"
   ]
  },
  {
   "cell_type": "code",
   "execution_count": null,
   "metadata": {
    "pycharm": {
     "name": "#%%\n"
    }
   },
   "outputs": [],
   "source": []
  },
  {
   "cell_type": "code",
   "execution_count": 110,
   "metadata": {
    "pycharm": {
     "name": "#%%\n"
    }
   },
   "outputs": [],
   "source": [
    "# from collections import Counter\n",
    "# print(Counter(data_y))  ## Counter({0.0: 143875, 1.0: 6013})\n",
    "# # print(Counter(y_train))  ## Counter({0.0: 250276, 1.0: 49693})\n"
   ]
  },
  {
   "cell_type": "code",
   "execution_count": 5,
   "metadata": {
    "pycharm": {
     "name": "#%%\n"
    }
   },
   "outputs": [],
   "source": [
    "walk_y = np.load('data/WalkvsRun/y_train.npy')\n",
    "walk_test_y = np.load('data/WalkvsRun/y_test.npy')"
   ]
  },
  {
   "cell_type": "code",
   "execution_count": null,
   "metadata": {
    "pycharm": {
     "name": "#%%\n"
    }
   },
   "outputs": [],
   "source": []
  },
  {
   "cell_type": "code",
   "execution_count": 7,
   "metadata": {
    "pycharm": {
     "name": "#%%\n"
    }
   },
   "outputs": [],
   "source": [
    "eeg_train_y = np.load('data/eeg2/y_train.npy')\n",
    "eeg_test_y = np.load('data/eeg2/y_test.npy')"
   ]
  },
  {
   "cell_type": "code",
   "execution_count": 21,
   "metadata": {
    "pycharm": {
     "name": "#%%\n"
    }
   },
   "outputs": [
    {
     "name": "stdout",
     "output_type": "stream",
     "text": [
      "[0 1 0 ... 0 0 0]\n",
      "float64\n",
      "int64\n"
     ]
    }
   ],
   "source": [
    "vsb_y = np.load('data/y.npy')\n",
    "print(vsb_y)\n",
    "vsb_x = np.load('data/X.npy')\n",
    "print(vsb_x.dtype)\n",
    "print(vsb_y.dtype)\n",
    "seq_len = 8"
   ]
  },
  {
   "cell_type": "code",
   "execution_count": null,
   "metadata": {
    "pycharm": {
     "name": "#%%\n"
    }
   },
   "outputs": [],
   "source": []
  },
  {
   "cell_type": "code",
   "execution_count": 49,
   "metadata": {
    "pycharm": {
     "name": "#%%\n"
    }
   },
   "outputs": [],
   "source": [
    "def multivariate(dataset, start_index,\n",
    "                      end_index, history_size, step):\n",
    "    data = []\n",
    "    start_index = start_index + history_size\n",
    "    if end_index is None:\n",
    "        end_index = len(dataset) + 1\n",
    "\n",
    "    for i in range(start_index, end_index, 4):\n",
    "        indices = range(i-history_size, i, step)\n",
    "        data.append(dataset[indices])\n",
    "    return np.array(data)\n",
    "\n"
   ]
  },
  {
   "cell_type": "code",
   "execution_count": 50,
   "metadata": {
    "pycharm": {
     "name": "#%%\n"
    }
   },
   "outputs": [],
   "source": [
    "test_data = multivariate(all_data, 0,\n",
    "                      None, history_size=4, step=1)"
   ]
  },
  {
   "cell_type": "code",
   "execution_count": 51,
   "metadata": {
    "pycharm": {
     "name": "#%%\n"
    }
   },
   "outputs": [
    {
     "data": {
      "text/plain": [
       "array([[[0.23106059, 0.25641025, 0.        ],\n",
       "        [0.28409086, 0.52564099, 0.        ],\n",
       "        [0.        , 0.47435901, 0.        ],\n",
       "        [0.15530303, 0.47435901, 0.        ]],\n",
       "\n",
       "       [[0.15530303, 0.41025655, 1.        ],\n",
       "        [0.39772725, 0.50000039, 1.        ],\n",
       "        [0.58333318, 0.47435901, 1.        ],\n",
       "        [0.68181822, 1.        , 0.        ]],\n",
       "\n",
       "       [[1.        , 0.38461556, 0.        ],\n",
       "        [0.91287891, 0.38461556, 0.        ],\n",
       "        [0.77651514, 0.3333332 , 0.        ],\n",
       "        [0.63636377, 0.3333332 , 0.        ]]])"
      ]
     },
     "execution_count": 51,
     "metadata": {},
     "output_type": "execute_result"
    }
   ],
   "source": [
    "test_data"
   ]
  },
  {
   "cell_type": "code",
   "execution_count": 52,
   "metadata": {
    "pycharm": {
     "name": "#%%\n"
    }
   },
   "outputs": [
    {
     "data": {
      "text/plain": [
       "(3, 4, 3)"
      ]
     },
     "execution_count": 52,
     "metadata": {},
     "output_type": "execute_result"
    }
   ],
   "source": [
    "test_data.shape"
   ]
  },
  {
   "cell_type": "code",
   "execution_count": 67,
   "metadata": {
    "pycharm": {
     "name": "#%%\n"
    }
   },
   "outputs": [],
   "source": [
    "from keras import backend as K\n",
    "import numpy as np\n",
    "import keras\n",
    "from sklearn.metrics import f1_score\n",
    "from keras.losses import BinaryCrossentropy\n",
    "# from config import args_parser\n",
    "\n",
    "def biased_crossentropy(y_true, y_pred):\n",
    "    # apply 1000 times heavier punishment to ship pixels\n",
    "    t1 = K.binary_crossentropy(y_true, y_pred)\n",
    "    t2 = tf.where(tf.equal(y_true, 0), t1 * 0.001, t1)  ##tf.equal(x,y)，逐元素判断是否相等，返回bool\n",
    "    return t2"
   ]
  },
  {
   "cell_type": "code",
   "execution_count": null,
   "metadata": {
    "pycharm": {
     "name": "#%%\n"
    }
   },
   "outputs": [],
   "source": []
  },
  {
   "cell_type": "code",
   "execution_count": null,
   "metadata": {
    "pycharm": {
     "name": "#%%\n"
    }
   },
   "outputs": [],
   "source": []
  },
  {
   "cell_type": "code",
   "execution_count": 75,
   "metadata": {
    "pycharm": {
     "name": "#%%\n"
    }
   },
   "outputs": [],
   "source": [
    "loss = keras.losses.BinaryCrossentropy()"
   ]
  },
  {
   "cell_type": "code",
   "execution_count": 76,
   "metadata": {
    "pycharm": {
     "name": "#%%\n"
    }
   },
   "outputs": [
    {
     "data": {
      "text/plain": [
       "<tf.Tensor: shape=(), dtype=float32, numpy=0.81492424>"
      ]
     },
     "execution_count": 76,
     "metadata": {},
     "output_type": "execute_result"
    }
   ],
   "source": [
    "loss(y_true,y_pred)"
   ]
  },
  {
   "cell_type": "code",
   "execution_count": 78,
   "metadata": {
    "pycharm": {
     "name": "#%%\n"
    }
   },
   "outputs": [],
   "source": [
    "loss2 = keras.losses.binary_crossentropy(y_true, y_pred)\n"
   ]
  },
  {
   "cell_type": "code",
   "execution_count": 85,
   "metadata": {
    "pycharm": {
     "name": "#%%\n"
    }
   },
   "outputs": [],
   "source": [
    "def focal_binarycrossentropy(y_true, y_pred):\n",
    "    # focal loss with gamma 8\n",
    "    # tf.where,tf.where(tensor),tensor 为一个bool 型张量，where函数将返回其中为true的元素的索引。\n",
    "    # tf.where(tensor,a,b),a,b为和tensor相同维度的tensor，\n",
    "    # 将tensor中的true位置元素替换为a中对应位置元素，false的替换为b中对应位置元素。\n",
    "    t1 = K.binary_crossentropy(y_true, y_pred)\n",
    "    alpha = args.alpha\n",
    "    lambd = args.lambd\n",
    "    t2 = tf.where(tf.equal(y_true, 0), alpha * t1 * (y_pred ** lambd), (1 - alpha) * t1 * ((1 - y_pred) ** lambd))\n",
    "    return t2\n",
    "\n",
    "import tensorflow as tf"
   ]
  },
  {
   "cell_type": "code",
   "execution_count": 99,
   "metadata": {
    "pycharm": {
     "name": "#%%\n"
    }
   },
   "outputs": [],
   "source": [
    "y_true = tf.constant([[1,1],[0,0]],dtype=tf.float32)\n",
    "y_pred = tf.constant([[0.7,0.3],[0.3,0.2]],dtype=tf.float32)\n"
   ]
  },
  {
   "cell_type": "code",
   "execution_count": 100,
   "metadata": {
    "pycharm": {
     "name": "#%%\n"
    }
   },
   "outputs": [],
   "source": [
    "def matthews_correlation(y_true, y_pred):\n",
    "    '''Calculates the Matthews correlation coefficient measure for quality\n",
    "    of binary classification problems.\n",
    "    '''\n",
    "    y_pred = tf.convert_to_tensor(y_pred, np.float32)\n",
    "    y_true = tf.convert_to_tensor(y_true, np.float32)\n",
    "\n",
    "    y_pred_pos = K.round(K.clip(y_pred, 0, 1))\n",
    "    y_pred_neg = 1 - y_pred_pos\n",
    "\n",
    "    y_pos = K.round(K.clip(y_true, 0, 1))\n",
    "    y_neg = 1 - y_pos\n",
    "\n",
    "    tp = K.sum(y_pos * y_pred_pos)\n",
    "    tn = K.sum(y_neg * y_pred_neg)\n",
    "\n",
    "    fp = K.sum(y_neg * y_pred_pos)\n",
    "    fn = K.sum(y_pos * y_pred_neg)\n",
    "\n",
    "    numerator = (tp * tn - fp * fn)\n",
    "    denominator = K.sqrt((tp + fp) * (tp + fn) * (tn + fp) * (tn + fn))\n",
    "\n",
    "    return numerator / (denominator + K.epsilon())"
   ]
  },
  {
   "cell_type": "code",
   "execution_count": 101,
   "metadata": {
    "pycharm": {
     "name": "#%%\n"
    }
   },
   "outputs": [],
   "source": [
    "loss = matthews_correlation(y_true, y_pred)"
   ]
  },
  {
   "cell_type": "code",
   "execution_count": 109,
   "metadata": {
    "pycharm": {
     "name": "#%%\n"
    }
   },
   "outputs": [
    {
     "data": {
      "text/plain": [
       "<tf.Tensor 'truediv_3:0' shape=() dtype=float32>"
      ]
     },
     "execution_count": 109,
     "metadata": {},
     "output_type": "execute_result"
    }
   ],
   "source": [
    "with tf.Session() as sess:\n",
    "print sess.run(x)"
   ]
  },
  {
   "cell_type": "code",
   "execution_count": null,
   "metadata": {
    "pycharm": {
     "name": "#%%\n"
    }
   },
   "outputs": [],
   "source": [
    "\n"
   ]
  }
 ],
 "metadata": {
  "kernelspec": {
   "display_name": "Python 3",
   "language": "python",
   "name": "python3"
  },
  "language_info": {
   "codemirror_mode": {
    "name": "ipython",
    "version": 3
   },
   "file_extension": ".py",
   "mimetype": "text/x-python",
   "name": "python",
   "nbconvert_exporter": "python",
   "pygments_lexer": "ipython3",
   "version": "3.7.7"
  }
 },
 "nbformat": 4,
 "nbformat_minor": 1
}
